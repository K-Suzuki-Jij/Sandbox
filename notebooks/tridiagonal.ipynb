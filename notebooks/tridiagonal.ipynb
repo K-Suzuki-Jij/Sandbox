{
 "cells": [
  {
   "cell_type": "code",
   "execution_count": 1,
   "metadata": {},
   "outputs": [],
   "source": [
    "import numpy as np\n",
    "import matplotlib.pyplot as plt\n",
    "from strum import Strum, tridiag\n",
    "from tqdm import tqdm\n",
    "n = 40\n",
    "th=1e-14"
   ]
  },
  {
   "cell_type": "code",
   "execution_count": 2,
   "metadata": {},
   "outputs": [
    {
     "name": "stderr",
     "output_type": "stream",
     "text": [
      "100%|██████████| 30/30 [00:00<00:00, 402.64it/s]\n"
     ]
    }
   ],
   "source": [
    "inn = []\n",
    "for i in tqdm(range(10, n)):\n",
    "    np.random.seed(1)\n",
    "    a = np.random.uniform(0, 1, i)\n",
    "    b = np.random.uniform(0, 1, i-1)\n",
    "    strum = Strum(th)\n",
    "    eigval1, eigvec1 = np.linalg.eigh(tridiag(i,a,b))\n",
    "    eigval2, eigvec2 = strum.bis_ith(0,i,a,b)\n",
    "    #print(i, np.dot(eigvec1[:,0], eigvec2))\n",
    "    inn.append(abs(np.dot(eigvec1[:,0], eigvec2)))"
   ]
  },
  {
   "cell_type": "code",
   "execution_count": 4,
   "metadata": {},
   "outputs": [
    {
     "data": {
      "text/plain": [
       "Text(0, 0.5, 'Inner product')"
      ]
     },
     "execution_count": 4,
     "metadata": {},
     "output_type": "execute_result"
    },
    {
     "data": {
      "image/png": "[encoded data removed]",
      "text/plain": [
       "<Figure size 432x288 with 1 Axes>"
      ]
     },
     "metadata": {
      "needs_background": "light"
     },
     "output_type": "display_data"
    }
   ],
   "source": [
    "plt.plot([i for i in range(10, n)], inn)\n",
    "plt.xlabel(\"dim\")\n",
    "plt.ylabel(\"Inner product\")\n"
   ]
  },
  {
   "cell_type": "code",
   "execution_count": null,
   "metadata": {},
   "outputs": [],
   "source": []
  },
  {
   "cell_type": "code",
   "execution_count": null,
   "metadata": {},
   "outputs": [],
   "source": []
  }
 ],
 "metadata": {
  "interpreter": {
   "hash": "99d386745bd03e7c1fc53f116e3201c6ed5bd0554cb1ae21501a8c1145d45065"
  },
  "kernelspec": {
   "display_name": "Python 3.9.12 ('.venv': venv)",
   "language": "python",
   "name": "python3"
  },
  "language_info": {
   "codemirror_mode": {
    "name": "ipython",
    "version": 3
   },
   "file_extension": ".py",
   "mimetype": "text/x-python",
   "name": "python",
   "nbconvert_exporter": "python",
   "pygments_lexer": "ipython3",
   "version": "3.9.12"
  },
  "orig_nbformat": 4
 },
 "nbformat": 4,
 "nbformat_minor": 2
}
